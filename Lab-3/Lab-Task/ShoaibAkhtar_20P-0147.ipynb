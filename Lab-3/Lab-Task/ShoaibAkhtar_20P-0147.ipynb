{
 "cells": [
  {
   "cell_type": "markdown",
   "id": "c85ba134",
   "metadata": {},
   "source": [
    "# Task-1"
   ]
  },
  {
   "cell_type": "markdown",
   "id": "9dfa527e",
   "metadata": {},
   "source": [
    "## Implementation of KNN"
   ]
  },
  {
   "cell_type": "code",
   "execution_count": null,
   "id": "fa20b49c",
   "metadata": {},
   "outputs": [],
   "source": []
  },
  {
   "cell_type": "code",
   "execution_count": 3,
   "id": "8610af15",
   "metadata": {},
   "outputs": [
    {
     "name": "stdout",
     "output_type": "stream",
     "text": [
      "New paper tissue that pass laboratory test with X1 =  3  and X2 = 7  is included in Good category\n"
     ]
    }
   ],
   "source": [
    "class KNN:\n",
    "    \n",
    "    def __init__(self,data1,data2,y_label,X1,X2,kValue):\n",
    "        \n",
    "        \n",
    "        \n",
    "        if(kValue%2!=0):\n",
    "            \n",
    "            \n",
    "            if(kValue<len(y_label)):\n",
    "                \n",
    "                \n",
    "               #Calculating The Euclidean Distance  \n",
    "        \n",
    "                l1 = []\n",
    "                size1 = len(data1)\n",
    "\n",
    "                for i in range(0,size1):\n",
    "                    a = 0\n",
    "                    b = 0\n",
    "                    c = 0\n",
    "                    a = data1[i]-X1\n",
    "                    b = data2[i]-X2\n",
    "                    a = a*a  #Calculating Square x1\n",
    "                    b = b*b  #Calculating Square x2\n",
    "                    c = a+b  # calculating the sum of both squares to get the Euclidean Distance \n",
    "                    l1.append(c) # Appending the Euclidean Distance in a list\n",
    "\n",
    "\n",
    "                l2 = l1.copy()\n",
    "\n",
    "                l2.sort()\n",
    "\n",
    "\n",
    "\n",
    "                l3 = [] \n",
    "\n",
    "                #Determinng the nearest neighbors based on the K-th minimum distance\n",
    "                for i in range(0,kValue):\n",
    "                    l3.append(l2[i])\n",
    "\n",
    "\n",
    "\n",
    "                #We are finding the indexes of the (k_Values) to find their label\n",
    "\n",
    "                l4 = []\n",
    "\n",
    "                for i in range(len(l3)):\n",
    "                    for j in range(len(l1)):\n",
    "                        if(l3[i]==l1[j]):\n",
    "                            l4.append(j)\n",
    "\n",
    "\n",
    "                #To avoid Duplicates \n",
    "\n",
    "\n",
    "                l4 = list(set(l4))\n",
    "\n",
    "\n",
    "                #Getting the K_labels \n",
    "\n",
    "                l5 = []\n",
    "\n",
    "\n",
    "                for i in l4:\n",
    "                    l5.append(y_label[i])\n",
    "\n",
    "\n",
    "\n",
    "                l6 = {\"Good\": 0,\"Bad\": 0}\n",
    "\n",
    "                for i in l5:\n",
    "\n",
    "                    if(i=='Good'):\n",
    "                        l6['Good']+=1\n",
    "\n",
    "                    elif(i=='Bad'):\n",
    "                        l6['Bad']+=1\n",
    "\n",
    "\n",
    "                if(l6[\"Good\"]>l6[\"Bad\"]):\n",
    "                    print(\"New paper tissue that pass laboratory test with X1 = \"\n",
    "                          ,X1,\" and X2 =\",X2,\" is included in Good category\")\n",
    "\n",
    "                elif(l6[\"Good\"]==l6[\"Bad\"]):\n",
    "                    print(\"New paper tissue that pass laboratory test with X1 = \"\n",
    "                          ,X1,\" and X2 =\",X2,\" both are in same category\")\n",
    "\n",
    "                else:\n",
    "                    print(\"New paper tissue that pass laboratory test with X1 = \"\n",
    "                          ,X1,\" and X2 =\",X2,\" is included in Bad category\")\n",
    "            else:\n",
    "                print(\"The K_value is Greater then the values of Y_Label\")\n",
    "            \n",
    "            \n",
    "            \n",
    "        else:\n",
    "            print(\"The Value of K is \",kValue,\" and it is even value. So, According to KNN algorithm\"\n",
    "                  ,\"it should be odd\")\n",
    "\n",
    "data1   = [7,7,3,1]\n",
    "data2   = [7,4,4,4]\n",
    "y_label = ['Bad','Bad','Good','Good',]\n",
    "\n",
    "\n",
    "a  = KNN(data1,data2,y_label,3,7,3)"
   ]
  },
  {
   "cell_type": "markdown",
   "id": "e3281ce7",
   "metadata": {},
   "source": [
    "# TASK-2"
   ]
  },
  {
   "cell_type": "code",
   "execution_count": 5,
   "id": "a30bf9b1",
   "metadata": {
    "scrolled": true
   },
   "outputs": [
    {
     "data": {
      "image/png": "[encoded data removed]",
      "text/plain": [
       "<Figure size 432x288 with 1 Axes>"
      ]
     },
     "metadata": {
      "needs_background": "light"
     },
     "output_type": "display_data"
    }
   ],
   "source": [
    "import pandas as pd\n",
    "\n",
    "#Reading The File \n",
    "\n",
    "data = pd.read_csv('fruit_data_with_colors _1_.csv')\n",
    "\n",
    "\n",
    "#Preparing the data BY eliminating context text and Categorical_Values \n",
    "\n",
    "data = data.drop(['fruit_name', 'fruit_subtype'], axis=1)\n",
    "\n",
    "\n",
    "#Addressing the Missing Value by their means \n",
    "\n",
    "data = data.fillna(data.mean())\n",
    "\n",
    "#Dividing The Data into Testing and training Forms \n",
    "\n",
    "X_train = data.iloc[:50, :-1]\n",
    "y_train = data.iloc[:50, -1]\n",
    "X_test = data.iloc[50:, :-1]\n",
    "y_test = data.iloc[50:, -1]\n",
    "\n",
    "\n",
    "\n",
    "#Applying the KNN algorith \n",
    "from sklearn.neighbors import KNeighborsClassifier\n",
    "\n",
    "y_train = y_train.round().astype(int)\n",
    "y_test = y_test.round().astype(int)\n",
    "\n",
    "knn = KNeighborsClassifier(n_neighbors=3)\n",
    "knn.fit(X_train, y_train)\n",
    "\n",
    "\n",
    "\n",
    "#Ploting the Accuracy \n",
    "\n",
    "import matplotlib.pyplot as plt\n",
    "\n",
    "k_values = range(1, 11)\n",
    "accuracies = []\n",
    "\n",
    "for k in k_values:\n",
    "    knn = KNeighborsClassifier(n_neighbors=k)\n",
    "    knn.fit(X_train, y_train)\n",
    "    accuracy = knn.score(X_test, y_test)\n",
    "    accuracies.append(accuracy)\n",
    "\n",
    "plt.plot(k_values, accuracies)\n",
    "plt.xlabel('K')\n",
    "plt.ylabel('Accuracy')\n",
    "plt.show()\n",
    "\n",
    "\n",
    "\n",
    "\n"
   ]
  },
  {
   "cell_type": "code",
   "execution_count": null,
   "id": "9ebc8131",
   "metadata": {},
   "outputs": [],
   "source": []
  },
  {
   "cell_type": "code",
   "execution_count": null,
   "id": "2600c00f",
   "metadata": {},
   "outputs": [],
   "source": []
  },
  {
   "cell_type": "code",
   "execution_count": null,
   "id": "b2f5fa31",
   "metadata": {},
   "outputs": [],
   "source": []
  },
  {
   "cell_type": "code",
   "execution_count": null,
   "id": "393df9df",
   "metadata": {},
   "outputs": [],
   "source": []
  },
  {
   "cell_type": "code",
   "execution_count": null,
   "id": "60a39d27",
   "metadata": {},
   "outputs": [],
   "source": []
  },
  {
   "cell_type": "code",
   "execution_count": null,
   "id": "965695f8",
   "metadata": {},
   "outputs": [],
   "source": []
  }
 ],
 "metadata": {
  "kernelspec": {
   "display_name": "Python 3 (ipykernel)",
   "language": "python",
   "name": "python3"
  },
  "language_info": {
   "codemirror_mode": {
    "name": "ipython",
    "version": 3
   },
   "file_extension": ".py",
   "mimetype": "text/x-python",
   "name": "python",
   "nbconvert_exporter": "python",
   "pygments_lexer": "ipython3",
   "version": "3.9.12"
  }
 },
 "nbformat": 4,
 "nbformat_minor": 5
}
