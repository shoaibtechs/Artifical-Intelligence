{
 "cells": [
  {
   "cell_type": "code",
   "execution_count": 1,
   "id": "ae600b8f",
   "metadata": {},
   "outputs": [
    {
     "name": "stderr",
     "output_type": "stream",
     "text": [
      "Even though the 'startprob_' attribute is set, it will be overwritten during initialization because 'init_params' contains 's'\n",
      "Even though the 'transmat_' attribute is set, it will be overwritten during initialization because 'init_params' contains 't'\n",
      "Even though the 'emissionprob_' attribute is set, it will be overwritten during initialization because 'init_params' contains 'e'\n"
     ]
    },
    {
     "name": "stdout",
     "output_type": "stream",
     "text": [
      "The machine is experiencing a malfunction.\n"
     ]
    }
   ],
   "source": [
    "\n",
    "import numpy as np\n",
    "import numpy as np\n",
    "from hmmlearn import hmm\n",
    "\n",
    "# Define the HMM model\n",
    "model = hmm.CategoricalHMM(n_components=2)\n",
    "\n",
    "# Define the initial state probabilities\n",
    "model.startprob_ = np.array([0.5, 0.5])  # Equal chance of starting in either state\n",
    "\n",
    "# Define the transition probabilities\n",
    "model.transmat_ = np.array([[0.7, 0.3], [0.3, 0.7]])  # Transition probabilities between states\n",
    "\n",
    "# Define the emission probabilities\n",
    "model.emissionprob_ = np.array([[0.9, 0.1], [0.2, 0.8]])  # Emission probabilities of each state for each observation\n",
    "\n",
    "# Generate some observed data\n",
    "sensor_readings = np.array([[0], [0], [1], [1], [1]])\n",
    "\n",
    "# Fit the model to the observed data\n",
    "model.fit(sensor_readings)\n",
    "\n",
    "# Predict the state of a new observation\n",
    "new_sensor_reading = np.array([[1]])\n",
    "predicted_state = model.predict(new_sensor_reading)\n",
    "\n",
    "# Print the predicted state\n",
    "if predicted_state == 0:\n",
    "    print(\"The machine is operating normally.\")\n",
    "else:\n",
    "    print(\"The machine is experiencing a malfunction.\")"
   ]
  },
  {
   "cell_type": "code",
   "execution_count": null,
   "id": "c5854967",
   "metadata": {},
   "outputs": [],
   "source": []
  }
 ],
 "metadata": {
  "kernelspec": {
   "display_name": "Python 3 (ipykernel)",
   "language": "python",
   "name": "python3"
  },
  "language_info": {
   "codemirror_mode": {
    "name": "ipython",
    "version": 3
   },
   "file_extension": ".py",
   "mimetype": "text/x-python",
   "name": "python",
   "nbconvert_exporter": "python",
   "pygments_lexer": "ipython3",
   "version": "3.9.12"
  }
 },
 "nbformat": 4,
 "nbformat_minor": 5
}
