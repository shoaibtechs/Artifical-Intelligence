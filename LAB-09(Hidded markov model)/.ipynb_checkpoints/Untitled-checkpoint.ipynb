{
 "cells": [
  {
   "cell_type": "code",
   "execution_count": 4,
   "id": "ab0a5b31",
   "metadata": {},
   "outputs": [
    {
     "name": "stdout",
     "output_type": "stream",
     "text": [
      "['sunny', 'sunny', 'sunny', 'sunny', 'rainy', 'rainy']\n"
     ]
    }
   ],
   "source": [
    "import numpy as np\n",
    "\n",
    "# Define the weather states and transition probabilities\n",
    "states = [\"sunny\", \"rainy\"]\n",
    "transition_matrix = np.array([\n",
    "    [0.8, 0.2],\n",
    "    [0.3, 0.7]\n",
    "])\n",
    "\n",
    "# Function to predict the next day's weather based on the current weather\n",
    "def predict_weather(current_weather, num_days):\n",
    "    current_state_index = states.index(current_weather)\n",
    "    weather_sequence = [current_weather]\n",
    "    for _ in range(num_days):\n",
    "        # Calculate the next day's weather based on the current state\n",
    "        next_state_index = np.random.choice(len(states), p=transition_matrix[current_state_index])\n",
    "        next_weather = states[next_state_index]\n",
    "        # Update the current state for the next iteration\n",
    "        current_state_index = next_state_index\n",
    "        weather_sequence.append(next_weather)\n",
    "    return weather_sequence\n",
    "\n",
    "# Perform weather prediction for 5 days starting from a sunny day\n",
    "predicted_weather = predict_weather(current_weather=\"sunny\", num_days=5)\n",
    "print(predicted_weather)\n"
   ]
  },
  {
   "cell_type": "code",
   "execution_count": 10,
   "id": "093ac9bb",
   "metadata": {},
   "outputs": [
    {
     "name": "stdout",
     "output_type": "stream",
     "text": [
      "Collecting hmmlearn\n",
      "  Downloading hmmlearn-0.3.0-cp39-cp39-manylinux_2_17_x86_64.manylinux2014_x86_64.whl (160 kB)\n",
      "\u001b[2K     \u001b[38;2;114;156;31m━━━━━━━━━━━━━━━━━━━━━━━━━━━━━━━━━━━━━\u001b[0m \u001b[32m160.5/160.5 kB\u001b[0m \u001b[31m184.5 kB/s\u001b[0m eta \u001b[36m0:00:00\u001b[0m kB/s\u001b[0m eta \u001b[36m0:00:01\u001b[0m:01\u001b[0m\n",
      "\u001b[?25hRequirement already satisfied: scikit-learn!=0.22.0,>=0.16 in /home/shoaib/anaconda3/lib/python3.9/site-packages (from hmmlearn) (1.2.2)\n",
      "Requirement already satisfied: numpy>=1.10 in /home/shoaib/anaconda3/lib/python3.9/site-packages (from hmmlearn) (1.23.5)\n",
      "Requirement already satisfied: scipy>=0.19 in /home/shoaib/anaconda3/lib/python3.9/site-packages (from hmmlearn) (1.10.0)\n",
      "Requirement already satisfied: threadpoolctl>=2.0.0 in /home/shoaib/anaconda3/lib/python3.9/site-packages (from scikit-learn!=0.22.0,>=0.16->hmmlearn) (2.2.0)\n",
      "Requirement already satisfied: joblib>=1.1.1 in /home/shoaib/anaconda3/lib/python3.9/site-packages (from scikit-learn!=0.22.0,>=0.16->hmmlearn) (1.2.0)\n",
      "Installing collected packages: hmmlearn\n",
      "Successfully installed hmmlearn-0.3.0\n"
     ]
    }
   ],
   "source": [
    "!pip install hmmlearn "
   ]
  },
  {
   "cell_type": "code",
   "execution_count": 11,
   "id": "f76d74f6",
   "metadata": {},
   "outputs": [
    {
     "name": "stdout",
     "output_type": "stream",
     "text": [
      "rain\n",
      "rain\n",
      "rain\n",
      "rain\n",
      "rain\n",
      "rain\n",
      "rain\n",
      "sun\n",
      "sun\n"
     ]
    }
   ],
   "source": [
    "import numpy as np\n",
    "from hmmlearn import hmm\n",
    "\n",
    "# Define observation model for each state\n",
    "sun = np.array([[0.2, 0.8]])\n",
    "rain = np.array([[0.9, 0.1]])\n",
    "\n",
    "# Define transition model\n",
    "transitions = np.array([\n",
    "    [0.8, 0.2],  # Tomorrow's predictions if today = sun\n",
    "    [0.3, 0.7],  # Tomorrow's predictions if today = rain\n",
    "])\n",
    "\n",
    "# Define starting probabilities\n",
    "starts = np.array([0.5, 0.5])\n",
    "\n",
    "# Create the model\n",
    "model = hmm.CategoricalHMM(n_components=2, verbose=False)\n",
    "model.startprob_ = starts\n",
    "model.transmat_ = transitions\n",
    "model.emissionprob_ = np.vstack((sun, rain))\n",
    "\n",
    "# Observed data\n",
    "observations = np.array([\n",
    "    [0],  # umbrella\n",
    "    [0],  # umbrella\n",
    "    [1],  # no umbrella\n",
    "    [0],  # umbrella\n",
    "    [0],  # umbrella\n",
    "    [0],  # umbrella\n",
    "    [0],  # umbrella\n",
    "    [1],  # no umbrella\n",
    "    [1],  # no umbrella\n",
    "])\n",
    "\n",
    "# Predict underlying states\n",
    "predictions = model.predict(observations)\n",
    "\n",
    "for prediction in predictions:\n",
    "    if prediction == 0:\n",
    "        print(\"sun\")\n",
    "    else:\n",
    "        print(\"rain\")\n"
   ]
  },
  {
   "cell_type": "markdown",
   "id": "544be800",
   "metadata": {},
   "source": [
    "# TASKS"
   ]
  },
  {
   "cell_type": "markdown",
   "id": "31d5e1df",
   "metadata": {},
   "source": [
    "## TASK-1"
   ]
  },
  {
   "cell_type": "code",
   "execution_count": 26,
   "id": "2533c29d",
   "metadata": {
    "scrolled": true
   },
   "outputs": [
    {
     "name": "stderr",
     "output_type": "stream",
     "text": [
      "MultinomialHMM has undergone major changes. The previous version was implementing a CategoricalHMM (a special case of MultinomialHMM). This new implementation follows the standard definition for a Multinomial distribution (e.g. as in https://en.wikipedia.org/wiki/Multinomial_distribution). See these issues for details:\n",
      "https://github.com/hmmlearn/hmmlearn/issues/335\n",
      "https://github.com/hmmlearn/hmmlearn/issues/340\n"
     ]
    },
    {
     "ename": "ValueError",
     "evalue": "Input contains NaN.",
     "output_type": "error",
     "traceback": [
      "\u001b[0;31m---------------------------------------------------------------------------\u001b[0m",
      "\u001b[0;31mValueError\u001b[0m                                Traceback (most recent call last)",
      "Cell \u001b[0;32mIn[26], line 39\u001b[0m\n\u001b[1;32m     36\u001b[0m n_trials \u001b[38;5;241m=\u001b[39m np\u001b[38;5;241m.\u001b[39mones(\u001b[38;5;28mlen\u001b[39m(observations))\n\u001b[1;32m     38\u001b[0m \u001b[38;5;66;03m# Fit the model with observations and number of trials\u001b[39;00m\n\u001b[0;32m---> 39\u001b[0m \u001b[43mmodel\u001b[49m\u001b[38;5;241;43m.\u001b[39;49m\u001b[43mfit\u001b[49m\u001b[43m(\u001b[49m\u001b[43mobservation_codes\u001b[49m\u001b[43m,\u001b[49m\u001b[43m \u001b[49m\u001b[43mn_trials\u001b[49m\u001b[43m)\u001b[49m\n\u001b[1;32m     41\u001b[0m predictions \u001b[38;5;241m=\u001b[39m model\u001b[38;5;241m.\u001b[39mpredict(observation_codes)\n\u001b[1;32m     43\u001b[0m \u001b[38;5;28;01mfor\u001b[39;00m prediction \u001b[38;5;129;01min\u001b[39;00m predictions:\n",
      "File \u001b[0;32m~/anaconda3/lib/python3.9/site-packages/hmmlearn/base.py:463\u001b[0m, in \u001b[0;36m_AbstractHMM.fit\u001b[0;34m(self, X, lengths)\u001b[0m\n\u001b[1;32m    441\u001b[0m \u001b[38;5;28;01mdef\u001b[39;00m \u001b[38;5;21mfit\u001b[39m(\u001b[38;5;28mself\u001b[39m, X, lengths\u001b[38;5;241m=\u001b[39m\u001b[38;5;28;01mNone\u001b[39;00m):\n\u001b[1;32m    442\u001b[0m     \u001b[38;5;124;03m\"\"\"\u001b[39;00m\n\u001b[1;32m    443\u001b[0m \u001b[38;5;124;03m    Estimate model parameters.\u001b[39;00m\n\u001b[1;32m    444\u001b[0m \n\u001b[0;32m   (...)\u001b[0m\n\u001b[1;32m    461\u001b[0m \u001b[38;5;124;03m        Returns self.\u001b[39;00m\n\u001b[1;32m    462\u001b[0m \u001b[38;5;124;03m    \"\"\"\u001b[39;00m\n\u001b[0;32m--> 463\u001b[0m     X \u001b[38;5;241m=\u001b[39m \u001b[43mcheck_array\u001b[49m\u001b[43m(\u001b[49m\u001b[43mX\u001b[49m\u001b[43m)\u001b[49m\n\u001b[1;32m    465\u001b[0m     \u001b[38;5;28;01mif\u001b[39;00m lengths \u001b[38;5;129;01mis\u001b[39;00m \u001b[38;5;28;01mNone\u001b[39;00m:\n\u001b[1;32m    466\u001b[0m         lengths \u001b[38;5;241m=\u001b[39m np\u001b[38;5;241m.\u001b[39masarray([X\u001b[38;5;241m.\u001b[39mshape[\u001b[38;5;241m0\u001b[39m]])\n",
      "File \u001b[0;32m~/anaconda3/lib/python3.9/site-packages/sklearn/utils/validation.py:921\u001b[0m, in \u001b[0;36mcheck_array\u001b[0;34m(array, accept_sparse, accept_large_sparse, dtype, order, copy, force_all_finite, ensure_2d, allow_nd, ensure_min_samples, ensure_min_features, estimator, input_name)\u001b[0m\n\u001b[1;32m    915\u001b[0m         \u001b[38;5;28;01mraise\u001b[39;00m \u001b[38;5;167;01mValueError\u001b[39;00m(\n\u001b[1;32m    916\u001b[0m             \u001b[38;5;124m\"\u001b[39m\u001b[38;5;124mFound array with dim \u001b[39m\u001b[38;5;132;01m%d\u001b[39;00m\u001b[38;5;124m. \u001b[39m\u001b[38;5;132;01m%s\u001b[39;00m\u001b[38;5;124m expected <= 2.\u001b[39m\u001b[38;5;124m\"\u001b[39m\n\u001b[1;32m    917\u001b[0m             \u001b[38;5;241m%\u001b[39m (array\u001b[38;5;241m.\u001b[39mndim, estimator_name)\n\u001b[1;32m    918\u001b[0m         )\n\u001b[1;32m    920\u001b[0m     \u001b[38;5;28;01mif\u001b[39;00m force_all_finite:\n\u001b[0;32m--> 921\u001b[0m         \u001b[43m_assert_all_finite\u001b[49m\u001b[43m(\u001b[49m\n\u001b[1;32m    922\u001b[0m \u001b[43m            \u001b[49m\u001b[43marray\u001b[49m\u001b[43m,\u001b[49m\n\u001b[1;32m    923\u001b[0m \u001b[43m            \u001b[49m\u001b[43minput_name\u001b[49m\u001b[38;5;241;43m=\u001b[39;49m\u001b[43minput_name\u001b[49m\u001b[43m,\u001b[49m\n\u001b[1;32m    924\u001b[0m \u001b[43m            \u001b[49m\u001b[43mestimator_name\u001b[49m\u001b[38;5;241;43m=\u001b[39;49m\u001b[43mestimator_name\u001b[49m\u001b[43m,\u001b[49m\n\u001b[1;32m    925\u001b[0m \u001b[43m            \u001b[49m\u001b[43mallow_nan\u001b[49m\u001b[38;5;241;43m=\u001b[39;49m\u001b[43mforce_all_finite\u001b[49m\u001b[43m \u001b[49m\u001b[38;5;241;43m==\u001b[39;49m\u001b[43m \u001b[49m\u001b[38;5;124;43m\"\u001b[39;49m\u001b[38;5;124;43mallow-nan\u001b[39;49m\u001b[38;5;124;43m\"\u001b[39;49m\u001b[43m,\u001b[49m\n\u001b[1;32m    926\u001b[0m \u001b[43m        \u001b[49m\u001b[43m)\u001b[49m\n\u001b[1;32m    928\u001b[0m \u001b[38;5;28;01mif\u001b[39;00m ensure_min_samples \u001b[38;5;241m>\u001b[39m \u001b[38;5;241m0\u001b[39m:\n\u001b[1;32m    929\u001b[0m     n_samples \u001b[38;5;241m=\u001b[39m _num_samples(array)\n",
      "File \u001b[0;32m~/anaconda3/lib/python3.9/site-packages/sklearn/utils/validation.py:161\u001b[0m, in \u001b[0;36m_assert_all_finite\u001b[0;34m(X, allow_nan, msg_dtype, estimator_name, input_name)\u001b[0m\n\u001b[1;32m    144\u001b[0m \u001b[38;5;28;01mif\u001b[39;00m estimator_name \u001b[38;5;129;01mand\u001b[39;00m input_name \u001b[38;5;241m==\u001b[39m \u001b[38;5;124m\"\u001b[39m\u001b[38;5;124mX\u001b[39m\u001b[38;5;124m\"\u001b[39m \u001b[38;5;129;01mand\u001b[39;00m has_nan_error:\n\u001b[1;32m    145\u001b[0m     \u001b[38;5;66;03m# Improve the error message on how to handle missing values in\u001b[39;00m\n\u001b[1;32m    146\u001b[0m     \u001b[38;5;66;03m# scikit-learn.\u001b[39;00m\n\u001b[1;32m    147\u001b[0m     msg_err \u001b[38;5;241m+\u001b[39m\u001b[38;5;241m=\u001b[39m (\n\u001b[1;32m    148\u001b[0m         \u001b[38;5;124mf\u001b[39m\u001b[38;5;124m\"\u001b[39m\u001b[38;5;130;01m\\n\u001b[39;00m\u001b[38;5;132;01m{\u001b[39;00mestimator_name\u001b[38;5;132;01m}\u001b[39;00m\u001b[38;5;124m does not accept missing values\u001b[39m\u001b[38;5;124m\"\u001b[39m\n\u001b[1;32m    149\u001b[0m         \u001b[38;5;124m\"\u001b[39m\u001b[38;5;124m encoded as NaN natively. For supervised learning, you might want\u001b[39m\u001b[38;5;124m\"\u001b[39m\n\u001b[0;32m   (...)\u001b[0m\n\u001b[1;32m    159\u001b[0m         \u001b[38;5;124m\"\u001b[39m\u001b[38;5;124m#estimators-that-handle-nan-values\u001b[39m\u001b[38;5;124m\"\u001b[39m\n\u001b[1;32m    160\u001b[0m     )\n\u001b[0;32m--> 161\u001b[0m \u001b[38;5;28;01mraise\u001b[39;00m \u001b[38;5;167;01mValueError\u001b[39;00m(msg_err)\n",
      "\u001b[0;31mValueError\u001b[0m: Input contains NaN."
     ]
    }
   ],
   "source": [
    "import numpy as np\n",
    "from hmmlearn import hmm\n",
    "\n",
    "states = [\"normal\", \"malfunction\"]\n",
    "observations = [\"within range\", \"outside range\", \"within range\", \"within range\", \"outside range\"]\n",
    "\n",
    "transition_matrix = np.array([\n",
    "    [0.9, 0.1],\n",
    "    [0.2, 0.8]\n",
    "])\n",
    "\n",
    "observation_matrix = np.array([\n",
    "    [0.9, 0.1],\n",
    "    [0.1, 0.9]\n",
    "])\n",
    "\n",
    "observation_matrix = observation_matrix.reshape(2, 2)\n",
    "\n",
    "starts = np.array([0.5, 0.5])\n",
    "\n",
    "model = hmm.MultinomialHMM(n_components=2, verbose=False)\n",
    "model.startprob_ = starts\n",
    "model.transmat_ = transition_matrix\n",
    "model.emissionprob_ = observation_matrix\n",
    "\n",
    "observations = np.array(observations).reshape(-1, 1)\n",
    "\n",
    "# Define a dictionary to map observation strings to integer codes\n",
    "observation_map = {obs: code for code, obs in enumerate(states)}\n",
    "\n",
    "# Convert the observations to integer codes and handle NaN values\n",
    "observation_codes = np.vectorize(observation_map.get)(observations)\n",
    "observation_codes = np.nan_to_num(observation_codes, nan=-1)\n",
    "\n",
    "# Set the number of trials to 1 for each observation\n",
    "n_trials = np.ones(len(observations))\n",
    "\n",
    "# Fit the model with observations and number of trials\n",
    "model.fit(observation_codes, n_trials)\n",
    "\n",
    "predictions = model.predict(observation_codes)\n",
    "\n",
    "for prediction in predictions:\n",
    "    if prediction == 0:\n",
    "        print(\"normal\")\n",
    "    else:\n",
    "        print(\"malfunction\")\n"
   ]
  },
  {
   "cell_type": "markdown",
   "id": "e34eebea",
   "metadata": {},
   "source": [
    "## TASK-2"
   ]
  },
  {
   "cell_type": "code",
   "execution_count": 7,
   "id": "46822b73",
   "metadata": {},
   "outputs": [],
   "source": [
    "import numpy as np\n",
    "\n",
    "# Define the health states and transition probabilities\n",
    "states = [\"healthy\", \"sick\"]\n",
    "transition_matrix = np.array([\n",
    "    [0.9, 0.1],\n",
    "    [0.2, 0.8]\n",
    "])\n",
    "\n",
    "# Define the observation probabilities\n",
    "observation_matrix = np.array([\n",
    "    [0.9, 0.1],\n",
    "    [0.1, 0.9]\n",
    "])\n",
    "\n",
    "# Function to diagnose health based on cough observation\n",
    "def diagnose_health(cough_observations):\n",
    "    current_state_index = 0\n",
    "    health_sequence = []\n",
    "    for cough_observation in cough_observations:\n",
    "        # Check if the cough observation is a valid index for the observation matrix\n",
    "        if cough_observation not in observation_matrix:\n",
    "            raise ValueError(\"Invalid cough observation: \" + cough_observation)\n",
    "\n",
    "        # Calculate the next state based on the current state and the cough observation\n",
    "        next_state_index = np.random.choice(len(states), p=transition_matrix[current_state_index][cough_observation])\n",
    "        next_health = states[next_state_index]\n",
    "        # Update the current state for the next iteration\n",
    "        current_state_index = next_state_index\n",
    "        health_sequence.append(next_health)\n",
    "    return health_sequence\n",
    "\n",
    "\n"
   ]
  },
  {
   "cell_type": "code",
   "execution_count": null,
   "id": "a3f6f78b",
   "metadata": {},
   "outputs": [],
   "source": []
  }
 ],
 "metadata": {
  "kernelspec": {
   "display_name": "Python 3 (ipykernel)",
   "language": "python",
   "name": "python3"
  },
  "language_info": {
   "codemirror_mode": {
    "name": "ipython",
    "version": 3
   },
   "file_extension": ".py",
   "mimetype": "text/x-python",
   "name": "python",
   "nbconvert_exporter": "python",
   "pygments_lexer": "ipython3",
   "version": "3.9.12"
  }
 },
 "nbformat": 4,
 "nbformat_minor": 5
}
