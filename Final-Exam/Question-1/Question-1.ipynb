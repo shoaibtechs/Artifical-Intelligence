{
 "cells": [
  {
   "cell_type": "code",
   "execution_count": null,
   "id": "0c618f4a",
   "metadata": {},
   "outputs": [],
   "source": [
    "import numpy as np\n",
    "import pandas as pd\n",
    "import seaborn as sns\n",
    "import matplotlib.pyplot as plt\n",
    "from sklearn.model_selection import train_test_split\n",
    "from sklearn.preprocessing import StandardScaler\n",
    "from sklearn.neural_network import MLPClassifier\n",
    "from sklearn.metrics import accuracy_score"
   ]
  },
  {
   "cell_type": "code",
   "execution_count": null,
   "id": "06e8278f",
   "metadata": {},
   "outputs": [],
   "source": [
    "#Step 1\n",
    "heart_data = pd.read_csv('AI_heart.csv')  \n",
    "target_variable = 'target'  \n",
    "class_counts = heart_data[target_variable].value_counts()\n",
    "print(\"Class counts:\\n\", class_counts)\n",
    "print(\"Data imbalance:\", class_counts[0] / class_counts[1])  "
   ]
  },
  {
   "cell_type": "code",
   "execution_count": null,
   "id": "34de4143",
   "metadata": {},
   "outputs": [],
   "source": [
    "# Step 2: \n",
    "correlation_matrix = heart_data.corr()\n",
    "plt.figure(figsize=(10, 8))\n",
    "sns.heatmap(correlation_matrix, annot=True, cmap=\"YlGnBu\")\n",
    "plt.title(\"Correlation Matrix\")\n",
    "plt.show()"
   ]
  },
  {
   "cell_type": "code",
   "execution_count": null,
   "id": "3229de5e",
   "metadata": {},
   "outputs": [],
   "source": [
    "# Step 3\n",
    "# Here we are handling the missing values\n",
    "heart_data.fillna(heart_data.mean(), inplace=True)\n",
    "\n",
    "# And here we are doing the encoding categorical variables\n",
    "heart_data = pd.get_dummies(heart_data)"
   ]
  },
  {
   "cell_type": "code",
   "execution_count": null,
   "id": "cc4b21c4",
   "metadata": {},
   "outputs": [],
   "source": [
    "# Step 4: Visualize the data distribution\n",
    "# Creating the scatter plots of relevant features\n",
    "sns.pairplot(heart_data, vars=['feature1', 'feature2', 'feature3'], hue=target_variable)\n",
    "plt.show()\n"
   ]
  },
  {
   "cell_type": "code",
   "execution_count": null,
   "id": "b668ab5c",
   "metadata": {},
   "outputs": [],
   "source": [
    "# Step 5: here we are spliting the dataset into training and testing :)\n",
    "X = heart_data.drop(target_variable, axis=1)\n",
    "y = heart_data[target_variable]\n",
    "X_train, X_test, y_train, y_test = train_test_split(X, y, test_size=0.3, random_state=2)\n"
   ]
  },
  {
   "cell_type": "code",
   "execution_count": null,
   "id": "0e908909",
   "metadata": {},
   "outputs": [],
   "source": [
    "# Step 6 --------Version 1 \n",
    "model1 = MLPClassifier(hidden_layer_sizes=(100, 50), activation='relu', solver='adam', random_state=2)\n",
    "#--------------Version \n",
    "model2 = MLPClassifier(hidden_layer_sizes=(200, 100), activation='relu', solver='adam', random_state=2)\n"
   ]
  },
  {
   "cell_type": "code",
   "execution_count": null,
   "id": "35f41cea",
   "metadata": {},
   "outputs": [],
   "source": [
    "# Step 7: Here we are training  the classifiers\n",
    "model1.fit(X_train, y_train)\n",
    "model2.fit(X_train, y_train)"
   ]
  },
  {
   "cell_type": "code",
   "execution_count": null,
   "id": "0e4d9295",
   "metadata": {},
   "outputs": [],
   "source": [
    "# Step 8: \n",
    "y_pred1 = model1.predict(X_test)\n",
    "y_pred2 = model2.predict(X_test)\n",
    "accuracy1 = accuracy_score(y_test, y_pred1)\n",
    "accuracy2 = accuracy_score(y_test, y_pred2)\n",
    "print(\"Model 1 Accuracy:\", accuracy1)\n",
    "print(\"Model 2 Accuracy:\", accuracy2)"
   ]
  },
  {
   "cell_type": "code",
   "execution_count": null,
   "id": "ee4dfe86",
   "metadata": {},
   "outputs": [],
   "source": []
  }
 ],
 "metadata": {
  "kernelspec": {
   "display_name": "Python 3 (ipykernel)",
   "language": "python",
   "name": "python3"
  },
  "language_info": {
   "codemirror_mode": {
    "name": "ipython",
    "version": 3
   },
   "file_extension": ".py",
   "mimetype": "text/x-python",
   "name": "python",
   "nbconvert_exporter": "python",
   "pygments_lexer": "ipython3",
   "version": "3.9.12"
  }
 },
 "nbformat": 4,
 "nbformat_minor": 5
}
