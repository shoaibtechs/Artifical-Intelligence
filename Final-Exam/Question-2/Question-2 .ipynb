{
 "cells": [
  {
   "cell_type": "code",
   "execution_count": 2,
   "id": "d0a35f31",
   "metadata": {},
   "outputs": [
    {
     "name": "stdout",
     "output_type": "stream",
     "text": [
      "Elevator moving from floor 1 to floor 5\n",
      "Elevator doors open on floor 5\n",
      "Elevator doors closed\n",
      "Passengers can enter the elevator\n",
      "Emergency stop button pressed\n",
      "Elevator stopped at floor 5\n",
      "Alerting building security about the emergency stop\n"
     ]
    }
   ],
   "source": [
    "class ElevatorAgent:\n",
    "    def __init__(self, max_capacity):\n",
    "        self.current_floor = 1\n",
    "        self.passengers = 0\n",
    "        self.max_capacity = max_capacity\n",
    "\n",
    "    def move_to_floor(self, floor_number):\n",
    "        if floor_number == self.current_floor:\n",
    "            print(f\"Elevator is already on floor {floor_number}\")\n",
    "        else:\n",
    "            print(f\"Elevator moving from floor {self.current_floor} to floor {floor_number}\")\n",
    "            self.current_floor = floor_number\n",
    "            self.open_doors()\n",
    "\n",
    "    def open_doors(self):\n",
    "        print(f\"Elevator doors open on floor {self.current_floor}\")\n",
    "        # Allow passengers to enter or exit here\n",
    "        self.close_doors()\n",
    "\n",
    "    def close_doors(self):\n",
    "        print(\"Elevator doors closed\")\n",
    "\n",
    "    def check_capacity(self):\n",
    "        if self.passengers < self.max_capacity:\n",
    "            return True\n",
    "        else:\n",
    "            return False\n",
    "\n",
    "    def emergency_stop(self):\n",
    "        print(\"Emergency stop button pressed\")\n",
    "        # Here we are stoping the elevator and triggering the alertto building the security\n",
    "        self.stop()\n",
    "        self.alert_building_security()\n",
    "\n",
    "    def stop(self):\n",
    "        print(f\"Elevator stopped at floor {self.current_floor}\")\n",
    "\n",
    "    def alert_building_security(self):\n",
    "        print(\"Alerting building security about the emergency stop\")\n",
    "\n",
    "\n",
    "# Example usage\n",
    "agent = ElevatorAgent(max_capacity=10)\n",
    "\n",
    "# Move elevator to floor 5\n",
    "agent.move_to_floor(5)\n",
    "\n",
    "# Check capacity before allowing passengers to enter\n",
    "if agent.check_capacity():\n",
    "    print(\"Passengers can enter the elevator\")\n",
    "    agent.passengers += 3\n",
    "else:\n",
    "    print(\"Elevator is at maximum capacity\")\n",
    "\n",
    "# Press the emergency button\n",
    "agent.emergency_stop()\n"
   ]
  },
  {
   "cell_type": "code",
   "execution_count": null,
   "id": "8a1d5a6d",
   "metadata": {},
   "outputs": [],
   "source": []
  }
 ],
 "metadata": {
  "kernelspec": {
   "display_name": "Python 3 (ipykernel)",
   "language": "python",
   "name": "python3"
  },
  "language_info": {
   "codemirror_mode": {
    "name": "ipython",
    "version": 3
   },
   "file_extension": ".py",
   "mimetype": "text/x-python",
   "name": "python",
   "nbconvert_exporter": "python",
   "pygments_lexer": "ipython3",
   "version": "3.9.12"
  }
 },
 "nbformat": 4,
 "nbformat_minor": 5
}
