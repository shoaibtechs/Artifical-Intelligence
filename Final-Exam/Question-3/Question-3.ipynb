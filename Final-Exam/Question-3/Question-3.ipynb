{
 "cells": [
  {
   "cell_type": "code",
   "execution_count": 3,
   "id": "018c756c",
   "metadata": {},
   "outputs": [
    {
     "name": "stdout",
     "output_type": "stream",
     "text": [
      "[2, 8, 3, 1, 6, 4, 7, ' ', 5]\n"
     ]
    }
   ],
   "source": [
    "import random\n",
    "\n",
    "class PuzzleState:\n",
    "    def __init__(self, state):\n",
    "        self.state = state\n",
    "\n",
    "    def random_state(cls):\n",
    "        tiles = [1, 2, 3, 4, 5, 6, 7, 8]\n",
    "        random.shuffle(tiles)\n",
    "        state = [tiles[i:i+3] for i in range(0, 9, 3)]\n",
    "        return cls(state)\n",
    "\n",
    "    def __str__(self):\n",
    "        return '\\n'.join([' '.join(map(str, row)) for row in self.state])\n",
    "\n",
    "    def __eq__(self, other):\n",
    "        return self.state == other.state\n",
    "\n",
    "    def move_blank(self, direction):\n",
    "        blank_row, blank_col = self.find_blank()\n",
    "        new_state = [row.copy() for row in self.state]\n",
    "\n",
    "        if direction == 'up':\n",
    "            new_state[blank_row][blank_col], new_state[blank_row-1][blank_col] = \\\n",
    "                new_state[blank_row-1][blank_col], new_state[blank_row][blank_col]\n",
    "        elif direction == 'down':\n",
    "            new_state[blank_row][blank_col], new_state[blank_row+1][blank_col] = \\\n",
    "                new_state[blank_row+1][blank_col], new_state[blank_row][blank_col]\n",
    "        elif direction == 'left':\n",
    "            new_state[blank_row][blank_col], new_state[blank_row][blank_col-1] = \\\n",
    "                new_state[blank_row][blank_col-1], new_state[blank_row][blank_col]\n",
    "        elif direction == 'right':\n",
    "            new_state[blank_row][blank_col], new_state[blank_row][blank_col+1] = \\\n",
    "                new_state[blank_row][blank_col+1], new_state[blank_row][blank_col]\n",
    "\n",
    "        return PuzzleState(new_state)\n",
    "\n",
    "    def find_blank(self):\n",
    "        for i, row in enumerate(self.state):\n",
    "            for j, tile in enumerate(row):\n",
    "                if tile == ' ':\n",
    "                    return i, j\n",
    "\n",
    "    def get_chromosome(self):\n",
    "        return [tile for row in self.state for tile in row]\n",
    "\n",
    "# Usage example:\n",
    "initial_state = PuzzleState([[2, 8, 3], [1, 6, 4], [7, ' ', 5]])\n",
    "print(initial_state.get_chromosome())\n"
   ]
  },
  {
   "cell_type": "code",
   "execution_count": 2,
   "id": "c4d92551",
   "metadata": {},
   "outputs": [
    {
     "ename": "IndexError",
     "evalue": "list index out of range",
     "output_type": "error",
     "traceback": [
      "\u001b[0;31m---------------------------------------------------------------------------\u001b[0m",
      "\u001b[0;31mIndexError\u001b[0m                                Traceback (most recent call last)",
      "Cell \u001b[0;32mIn[2], line 19\u001b[0m\n\u001b[1;32m     17\u001b[0m \u001b[38;5;66;03m# Assuming 'puzzle_state' is the current state of the puzzle\u001b[39;00m\n\u001b[1;32m     18\u001b[0m current_state \u001b[38;5;241m=\u001b[39m PuzzleState\u001b[38;5;241m.\u001b[39mrandom_state()\n\u001b[0;32m---> 19\u001b[0m fitness \u001b[38;5;241m=\u001b[39m \u001b[43mfitness_function\u001b[49m\u001b[38;5;241;43m.\u001b[39;49m\u001b[43mevaluate_fitness\u001b[49m\u001b[43m(\u001b[49m\u001b[43mcurrent_state\u001b[49m\u001b[43m)\u001b[49m\n\u001b[1;32m     20\u001b[0m \u001b[38;5;28mprint\u001b[39m(fitness)\n",
      "Cell \u001b[0;32mIn[2], line 9\u001b[0m, in \u001b[0;36mFitnessFunction.evaluate_fitness\u001b[0;34m(self, puzzle_state)\u001b[0m\n\u001b[1;32m      7\u001b[0m \u001b[38;5;28;01mfor\u001b[39;00m i \u001b[38;5;129;01min\u001b[39;00m \u001b[38;5;28mrange\u001b[39m(\u001b[38;5;241m3\u001b[39m):\n\u001b[1;32m      8\u001b[0m     \u001b[38;5;28;01mfor\u001b[39;00m j \u001b[38;5;129;01min\u001b[39;00m \u001b[38;5;28mrange\u001b[39m(\u001b[38;5;241m3\u001b[39m):\n\u001b[0;32m----> 9\u001b[0m         \u001b[38;5;28;01mif\u001b[39;00m \u001b[43mpuzzle_state\u001b[49m\u001b[38;5;241;43m.\u001b[39;49m\u001b[43mstate\u001b[49m\u001b[43m[\u001b[49m\u001b[43mi\u001b[49m\u001b[43m]\u001b[49m\u001b[43m[\u001b[49m\u001b[43mj\u001b[49m\u001b[43m]\u001b[49m \u001b[38;5;241m==\u001b[39m \u001b[38;5;28mself\u001b[39m\u001b[38;5;241m.\u001b[39mtarget_state\u001b[38;5;241m.\u001b[39mstate[i][j]:\n\u001b[1;32m     10\u001b[0m             fitness \u001b[38;5;241m+\u001b[39m\u001b[38;5;241m=\u001b[39m \u001b[38;5;241m1\u001b[39m\n\u001b[1;32m     11\u001b[0m \u001b[38;5;28;01mreturn\u001b[39;00m fitness\n",
      "\u001b[0;31mIndexError\u001b[0m: list index out of range"
     ]
    }
   ],
   "source": [
    "class FitnessFunction:\n",
    "    def __init__(self, target_state):\n",
    "        self.target_state = target_state\n",
    "\n",
    "    def evaluate_fitness(self, puzzle_state):\n",
    "        fitness = 0\n",
    "        for i in range(3):\n",
    "            for j in range(3):\n",
    "                if puzzle_state.state[i][j] == self.target_state.state[i][j]:\n",
    "                    fitness += 1\n",
    "        return fitness\n",
    "\n",
    "# Usage example:\n",
    "target_state = PuzzleState([[1, 2, 3], [8, ' ', 4], [7, 6, 5]])\n",
    "fitness_function = FitnessFunction(target_state)\n",
    "\n",
    "# Assuming 'puzzle_state' is the current state of the puzzle\n",
    "current_state = PuzzleState.random_state()\n",
    "fitness = fitness_function.evaluate_fitness(current_state)\n",
    "print(fitness)\n"
   ]
  },
  {
   "cell_type": "code",
   "execution_count": null,
   "id": "e55b7a8a",
   "metadata": {},
   "outputs": [],
   "source": []
  }
 ],
 "metadata": {
  "kernelspec": {
   "display_name": "Python 3 (ipykernel)",
   "language": "python",
   "name": "python3"
  },
  "language_info": {
   "codemirror_mode": {
    "name": "ipython",
    "version": 3
   },
   "file_extension": ".py",
   "mimetype": "text/x-python",
   "name": "python",
   "nbconvert_exporter": "python",
   "pygments_lexer": "ipython3",
   "version": "3.9.12"
  }
 },
 "nbformat": 4,
 "nbformat_minor": 5
}
