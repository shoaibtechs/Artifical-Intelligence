{
 "cells": [
  {
   "cell_type": "markdown",
   "id": "9d719fed",
   "metadata": {},
   "source": [
    "## TASK-1"
   ]
  },
  {
   "cell_type": "code",
   "execution_count": 39,
   "id": "c254eddb",
   "metadata": {},
   "outputs": [],
   "source": [
    "def fire_alaram_system():\n",
    "    \n",
    "    \n",
    "    smoke = 0 \n",
    "    temp  = 0\n",
    "    \n",
    "    #Checking the Smoke detection \n",
    "    smoke =  int(input(\"Press 1 for smoke detection and Press 2 for No Smoke detection: \"))\n",
    "    \n",
    "    \n",
    "    #Checking the Temp \n",
    "    temp =   int(input(\"Enter the Temperature: \"))\n",
    "    \n",
    "    if((type(temp) != int) or (type(smoke) != int )):\n",
    "        print(\"Problem in sensor\")\n",
    "        return\n",
    "    \n",
    "    \n",
    "    if(temp > 50):\n",
    "        \n",
    "        if(smoke == 1):\n",
    "            print(\"Temperature is High but no smoke is detected\")\n",
    "            \n",
    "            \n",
    "            alaram()\n",
    "            fire_department()\n",
    "            return \n",
    "        \n",
    "        if(smoke == 2):\n",
    "            print(\"Temperature is High and also smoke is detected\")\n",
    "            \n",
    "            alaram()\n",
    "            fire_department()\n",
    "            sprinkler_system()\n",
    "            return\n",
    "        \n",
    "    elif temp in range(0, 40):\n",
    "         if(smoke == 1):\n",
    "                print(\"Temperature is low also no smoke is detected\")\n",
    "                print(\"Don't worry Everything is Normal :) \")\n",
    "                return\n",
    "        \n",
    "         if(smoke == 2):\n",
    "                print(\"Temperature is low and  smoke is detected\")\n",
    "                alaram()\n",
    "                fire_department()\n",
    "                return\n",
    "    \n",
    "def alaram():\n",
    "    print(\"Alaram is Ringing\")\n",
    "    return \n",
    "\n",
    "        \n",
    "def sprinkler_system():\n",
    "    print(\"sprinkler system is Activated\")\n",
    "    return \n",
    "\n",
    "def fire_department():\n",
    "    print(\"Fire Department is called\")\n",
    "        \n",
    "        \n",
    "        "
   ]
  },
  {
   "cell_type": "code",
   "execution_count": 40,
   "id": "ad5589ab",
   "metadata": {
    "scrolled": false
   },
   "outputs": [
    {
     "name": "stdout",
     "output_type": "stream",
     "text": [
      "Press 1 for smoke detection and Press 2 for No Smoke detection: 2\n",
      "Enter the Temperature: 77\n",
      "Temperature is High and also smoke is detected\n",
      "Alaram is Ringing\n",
      "Fire Department is called\n",
      "sprinkler system is Activated\n"
     ]
    }
   ],
   "source": [
    "fire_alaram_system()"
   ]
  },
  {
   "cell_type": "markdown",
   "id": "0c116177",
   "metadata": {},
   "source": [
    "## TASK-2"
   ]
  },
  {
   "cell_type": "code",
   "execution_count": 43,
   "id": "615dafef",
   "metadata": {},
   "outputs": [
    {
     "name": "stdout",
     "output_type": "stream",
     "text": [
      "Moisture level of Dry soil is Disabled. Press 1 to Enable it or press 0 to disable:  0\n",
      "Moisture level of moist soil is Disabled. Press 1 for Enable it or press 0 to disable:  0\n",
      "Moisture level of wet soil is Disabled. Press 1 for Enable it or press 0 to disable:  1\n",
      "Moisture Level is wet Soil. So, to prevent watering logging the watering system is Deactivated\n"
     ]
    }
   ],
   "source": [
    "\n",
    "\n",
    "import logging\n",
    "\n",
    "\n",
    "class Watering_system:\n",
    "    \n",
    "    def __init__(self):\n",
    "        try:\n",
    "            self.dry_soil   =  0\n",
    "            self.moist_soil =  0\n",
    "            self.wet_soil   =  0\n",
    "            self.dry_soil = int(input(\"Moisture level of Dry soil is Disabled. Press 1 to Enable it or press 0 to disable:  \"))\n",
    "            self.moist_soil = int(input(\"Moisture level of moist soil is Disabled. Press 1 for Enable it or press 0 to disable:  \"))\n",
    "            self.wet_soil = int(input(\"Moisture level of wet soil is Disabled. Press 1 for Enable it or press 0 to disable:  \"))\n",
    "            \n",
    "            if(self.dry_soil == 1):\n",
    "                logging.info(\"watering System is ON \")\n",
    "                print(\"Moisture Level is Dry.So the Watering System is ON\")\n",
    "                \n",
    "                \n",
    "            if(self.moist_soil == 1):\n",
    "                logging.info(\"watering System is OFF \")\n",
    "                print(\"Moisture Level is Moist Soil. So, to avoid over watering the watering system is off\")\n",
    "                \n",
    "            if(self.wet_soil == 1):\n",
    "                logging.info(\"Deactivating the watering system. \")\n",
    "                print(\"Moisture Level is wet Soil. So, to prevent watering logging the watering system is Deactivated\")\n",
    "        \n",
    "        except ValueError as e:\n",
    "            print(\"An error occurred: {}\".format(e))\n",
    "\n",
    "            \n",
    "        \n",
    "        \n",
    "        \n",
    "    \n",
    "    \n",
    "   \n",
    "    \n",
    "        \n",
    "    \n",
    "    \n",
    "        \n",
    "        \n",
    "    \n",
    "                \n",
    "        \n",
    "        \n",
    "        \n",
    "    \n",
    "    \n",
    "w = Watering_system()   "
   ]
  },
  {
   "cell_type": "code",
   "execution_count": 35,
   "id": "6c29fcea",
   "metadata": {
    "scrolled": true
   },
   "outputs": [
    {
     "name": "stdout",
     "output_type": "stream",
     "text": [
      "Moisture level of Dry soil is Disabled. Press 1 to Enable it or to disable press 0.1\n",
      "Moisture level of moist soil is Disabled. Press 1 for Enable it or to disable press 0.  1\n",
      "Moisture level of wet soil is Disabled. Press 1 for Enable it or to disable press 0.  1\n",
      "Moisture Level is Dry.So the Watering System is ON\n",
      "Moisture Level is Moist Soil. So, to avoid over watering the watering system is off\n",
      "Moisture Level is wet Soil. So, to prevent watering logging the watering system is Deactivated\n"
     ]
    }
   ],
   "source": []
  },
  {
   "cell_type": "code",
   "execution_count": null,
   "id": "1d296a9c",
   "metadata": {},
   "outputs": [],
   "source": []
  }
 ],
 "metadata": {
  "kernelspec": {
   "display_name": "Python 3 (ipykernel)",
   "language": "python",
   "name": "python3"
  },
  "language_info": {
   "codemirror_mode": {
    "name": "ipython",
    "version": 3
   },
   "file_extension": ".py",
   "mimetype": "text/x-python",
   "name": "python",
   "nbconvert_exporter": "python",
   "pygments_lexer": "ipython3",
   "version": "3.9.12"
  }
 },
 "nbformat": 4,
 "nbformat_minor": 5
}
