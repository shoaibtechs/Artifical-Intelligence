{
 "cells": [
  {
   "cell_type": "code",
   "execution_count": 2,
   "metadata": {},
   "outputs": [
    {
     "name": "stdout",
     "output_type": "stream",
     "text": [
      "Enter location of vacuum (A/B): A\n",
      "Enter status of room A (0/1): 1\n",
      "Enter status of room B (0/1): 1\n",
      "location condition: {'A': '1', 'B': '1'}\n",
      "Location A cleaned. Cost: 1\n",
      "Moving to room B\n",
      "Location B cleaned. Cost: 3\n",
      "\n",
      "Goal state: {'A': '0', 'B': '0'}\n",
      "Performance measurement: 3\n"
     ]
    }
   ],
   "source": [
    "#INSTRUCTIONS\n",
    "#Enter LOCATION A/B in captial letters\n",
    "#Enter Status O/1 accordingly where 0 means CLEAN and 1 means DIRTY\n",
    "\n",
    "def vacuum_world():\n",
    "    # Initialize goal state with both rooms as clean\n",
    "    \n",
    "#     goal_state = {'A': '0', 'B': '0'}\n",
    "    cost = 0\n",
    "\n",
    "    # Get user input for vacuum location and room status\n",
    "    location = input(\"Enter location of vacuum (A/B): \").upper()\n",
    "    status = input(f\"Enter status of room {location} (0/1): \")\n",
    "    other_room = 'A' if location == 'B' else 'B'\n",
    "    other_status = input(f\"Enter status of room {other_room} (0/1): \")\n",
    "\n",
    "    goal_state = {location: status, other_room: other_status}\n",
    " \n",
    "    print(\"location condition:\", goal_state)\n",
    "\n",
    "    if status == '1':\n",
    "        # Vacuum is in a dirty room\n",
    "        goal_state[location] = '0'\n",
    "        cost += 1\n",
    "        print(f\"Location {location} cleaned. Cost: {cost}\")\n",
    "        \n",
    "        \n",
    "        if other_status == '1':\n",
    "            # Other room is dirty\n",
    "            print(f\"Moving to room {other_room}\")\n",
    "            cost += 1\n",
    "            goal_state[other_room] = '0'\n",
    "            cost += 1\n",
    "            print(f\"Location {other_room} cleaned. Cost: {cost}\")\n",
    "        else:\n",
    "            print(f\"Room {other_room} is already clean\")\n",
    "    else:\n",
    "        print(f\"Location {location} is already clean\")\n",
    "        \n",
    "        if other_status == '1':\n",
    "            # Other room is dirty\n",
    "            print(f\"Moving to room {other_room}\")\n",
    "            cost += 1\n",
    "            goal_state[other_room] = '0'\n",
    "            cost += 1\n",
    "            print(f\"Location {other_room} cleaned. Cost: {cost}\")\n",
    "        else:\n",
    "            print(f\"Room {other_room} is already clean\")\n",
    "\n",
    "    print(\"\\nGoal state:\", goal_state)\n",
    "    print(\"Performance measurement:\", cost)\n",
    "\n",
    "vacuum_world()"
   ]
  },
  {
   "cell_type": "code",
   "execution_count": null,
   "metadata": {},
   "outputs": [],
   "source": []
  }
 ],
 "metadata": {
  "kernelspec": {
   "display_name": "Python 3 (ipykernel)",
   "language": "python",
   "name": "python3"
  },
  "language_info": {
   "codemirror_mode": {
    "name": "ipython",
    "version": 3
   },
   "file_extension": ".py",
   "mimetype": "text/x-python",
   "name": "python",
   "nbconvert_exporter": "python",
   "pygments_lexer": "ipython3",
   "version": "3.9.12"
  }
 },
 "nbformat": 4,
 "nbformat_minor": 4
}
