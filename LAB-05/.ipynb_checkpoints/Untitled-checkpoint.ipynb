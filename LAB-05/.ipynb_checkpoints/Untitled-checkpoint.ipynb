{
 "cells": [
  {
   "cell_type": "markdown",
   "id": "bd3fd732",
   "metadata": {},
   "source": [
    "# Example 1: Implement the following tree using greedy algorithm having a destination node H"
   ]
  },
  {
   "cell_type": "code",
   "execution_count": null,
   "id": "f73660cc",
   "metadata": {},
   "outputs": [],
   "source": [
    "class Node:\n",
    "    def __init__(self, data):\n",
    "        self.left = None\n",
    "        self.right = None\n",
    "        self.data = data\n",
    "\n",
    "root = Node('S')\n",
    "root.left = Node('A')\n",
    "root.right = Node('B')\n",
    "A = root.left\n",
    "A.left = Node('C')\n",
    "A.right = Node('D')\n",
    "B = root.right\n",
    "B.left = Node('E')\n",
    "B.right = Node('F')\n",
    "B.left.left = Node('H')\n",
    "F = B.right\n",
    "F.left = Node('I')\n",
    "F.right = Node('G')\n",
    "\n",
    "Actual_Cost = {'S': 0, 'A': 3, 'B': 2, 'C': 4, 'D': 1, 'E': 3, 'F': 9, 'G': 3, 'H': 5, 'I': 2}\n",
    "Heuristic = {'S': 13, 'A': 12, 'B': 4, 'C': 7, 'D': 3, 'E': 8, 'F': 2, 'G': 0, 'H': 4, 'I': 9}\n",
    "Goal = 'G'\n",
    "\n",
    "def run():\n",
    "    opened = []\n",
    "    closed = []\n",
    "    visited = []\n",
    "    temp = []\n",
    "    visited.append(\"S\")\n",
    "    node = root\n",
    "    closed.append(node.data)\n",
    "\n",
    "    while node.data != Goal:\n",
    "        if node.left and node.left.data not in visited:\n",
    "            opened.append(node.left)\n",
    "            visited.append(node.left.data)\n",
    "            temp.append((Heuristic[node.left.data], node.left.data))\n",
    "\n",
    "        if node.right and node.right.data not in visited:\n",
    "            opened.append(node.right)\n",
    "            visited.append(node.right.data)\n",
    "            temp.append((Heuristic[node.right.data], node.right.data))\n",
    "\n",
    "        temp.sort(reverse=True)\n",
    "        x = temp.pop()\n",
    "\n",
    "        y = 0\n",
    "\n",
    "        for i in opened:\n",
    "            if i.data == x[1]:\n",
    "                node = i\n",
    "                closed.append(i.data)\n",
    "                break\n",
    "            y = y + 1\n",
    "\n",
    "        opened.pop(y)\n",
    "\n",
    "    return closed\n",
    "\n",
    "print(run())\n"
   ]
  },
  {
   "cell_type": "markdown",
   "id": "e1c03127",
   "metadata": {},
   "source": [
    "## A* algorithm "
   ]
  },
  {
   "cell_type": "code",
   "execution_count": null,
   "id": "f522677c",
   "metadata": {},
   "outputs": [],
   "source": [
    "import heapq\n",
    "import heapq\n",
    "\n",
    "class Graph:\n",
    "    def __init__(self):\n",
    "        self.adjacency_list = {\n",
    "            'S': {'A': 1, 'G':10},\n",
    "            'A': {'B': 2,'C':1},\n",
    "            'B': {'D': 5},\n",
    "            'C': {'D': 3,'G':4},\n",
    "            'D': {'G': 4}\n",
    "        }\n",
    "\n",
    "    def heuristic(self, node):\n",
    "        # Define the heuristic function for estimating the cost from a node to the goal (Node D)\n",
    "        heuristic_values = {'S': 5, 'A': 3, 'B': 4, 'C': 2, 'D': 6, 'G': 0}\n",
    "        return heuristic_values[node]\n",
    "\n",
    "    def a_star_search(self, start, goal):\n",
    "        # Initialize the priority queue with the start node and its total cost\n",
    "        priority_queue = [(0, start)]\n",
    "        # Initialize the dictionary to store the cost of reaching each node\n",
    "        cost = {start: 0}\n",
    "        # Initialize the dictionary to store the parent node for each node in the path\n",
    "        parent = {start: None}\n",
    "\n",
    "        while priority_queue:\n",
    "            _, current_node = heapq.heappop(priority_queue)\n",
    "\n",
    "            if current_node == goal:\n",
    "                # Reconstruct and return the path\n",
    "                path = self.construct_path(parent, goal)\n",
    "                return path\n",
    "            \n",
    "            # This can come in exam that the difference in above code and A* \n",
    "            \n",
    "            for neighbor, edge_cost in self.adjacency_list[current_node].items():\n",
    "                new_cost = cost[current_node] + edge_cost\n",
    "                if neighbor not in cost or new_cost < cost[neighbor]:\n",
    "                    cost[neighbor] = new_cost\n",
    "                    total_cost = new_cost + self.heuristic(neighbor)\n",
    "                    heapq.heappush(priority_queue, (total_cost, neighbor))\n",
    "                    parent[neighbor] = current_node\n",
    "\n",
    "        # No path found from the start to the goal\n",
    "        return []\n",
    "\n",
    "    def construct_path(self, parent, goal):\n",
    "        path = []\n",
    "        current = goal\n",
    "\n",
    "        while current:\n",
    "            path.append(current)\n",
    "            current = parent[current]\n",
    "\n",
    "        path.reverse()\n",
    "        return path\n",
    "\n",
    "# Example usage\n",
    "graph = Graph()\n",
    "start_node = 'S'\n",
    "goal_node = 'G'\n",
    "path = graph.a_star_search(start_node, goal_node)\n",
    "\n",
    "print(\"Shortest path:\", path)"
   ]
  },
  {
   "cell_type": "markdown",
   "id": "5404b964",
   "metadata": {},
   "source": [
    "# TASK"
   ]
  },
  {
   "cell_type": "code",
   "execution_count": 2,
   "id": "4a3fa577",
   "metadata": {},
   "outputs": [
    {
     "name": "stdout",
     "output_type": "stream",
     "text": [
      "Requirement already satisfied: networkx in /home/shoaib/anaconda3/lib/python3.9/site-packages (3.1)\n",
      "Note: you may need to restart the kernel to use updated packages.\n"
     ]
    }
   ],
   "source": [
    "pip install --upgrade networkx\n"
   ]
  },
  {
   "cell_type": "code",
   "execution_count": 3,
   "id": "d2723aa2",
   "metadata": {},
   "outputs": [],
   "source": [
    "import networkx as nx\n",
    "import heapq"
   ]
  },
  {
   "cell_type": "code",
   "execution_count": 4,
   "id": "7d4e7eaa",
   "metadata": {},
   "outputs": [
    {
     "data": {
      "text/plain": [
       "NodeView(('Arad', 'Bucharest', 'Oradea', 'Zerind', 'Sibiu', 'Fagaras', 'Timisoara', 'Lugoj', 'Rimnicu Vilcea', 'Pitesti', 'Giurgui', 'Craiova', 'Eforie', 'Urziceni', 'Hirsova', 'Neamt', 'lasi', 'Vaslui', 'Mehadia', 'Dobreta'))"
      ]
     },
     "execution_count": 4,
     "metadata": {},
     "output_type": "execute_result"
    }
   ],
   "source": [
    "G = nx.Graph()\n",
    "\n",
    "G.add_nodes_from([\"Arad\", \"Bucharest\" , \"Oradea\" ,\n",
    "                  \"Zerind\" , \"Sibiu\" , \"Fagaras\" , \n",
    "                  \"Timisoara\" ,\"Lugoj\" , \n",
    "                  \"Rimnicu Vilcea\" , \"Pitesti\" , \n",
    "                  \"Giurgui\" , \"Craiova\" , \n",
    "                  \"Eforie\" , \"Urziceni\" , \n",
    "                  \"Hirsova\" , \"Neamt\" , \n",
    "                  \"lasi\" , \"Vaslui\" , \n",
    "                  \"Mehadia\" , \"Dobreta\"])#add remaining nodes to the list\n",
    "G.nodes()"
   ]
  },
  {
   "cell_type": "code",
   "execution_count": 5,
   "id": "e629e3a6",
   "metadata": {},
   "outputs": [],
   "source": [
    "edges = [(\"Arad\", \"Zerind\", 75),(\"Arad\", \"Sibiu\", 140),         \n",
    "         (\"Arad\", \"Timisoara\", 118),(\"Bucharest\", \"Fagaras\", 211) ,\n",
    "         (\"Oradea\" , \"Sibiu\" , 151) , (\"Oradea\" , \"Zerind\", 71) ,\n",
    "         (\"Sibiu\" , \"Fagaras\" , 99) , (\"Zerind\" ,\"Arad\" , 75) ,\n",
    "         (\"Sibiu\",\"Rimnicu Vilcea\" , 80) , (\"Rimnicu Vilcea\",\"Pitesti\" , 97) ,\n",
    "         (\"Rimnicu Vilcea\" , \"Craiova\" , 146) , (\"Pitesti\" , \"Craiova\" , 138) ,\n",
    "        (\"Lugoj\" , \"Mehadia\" , 70) , (\"Mehadia\" ,\"Dobreta\" , 75),\n",
    "        (\"Dobreta\" ,\"Craiova\" , 120) ,(\"Bucharest\" , \"Giurgui\" , 90) , \n",
    "        (\"Bucharest\" , \"Urziceni\" , 85) , (\"Timisoara\" , \"Lugoj\" , 111) ,\n",
    "        (\"Bucharest\" , \"Pitesti\" , 101) , (\"Urziceni\" , \"Hirsova\" , 98) , \n",
    "        (\"Urziceni\" , \"Vaslui\" , 142) , (\"Hirosva\" , \"Eforie\" , 86) , \n",
    "        (\"Vaslui\" , \"lasi\" , 92) , (\"lasi\" , \"Neamt\" , 87) , ]\n",
    "\n",
    "for edge in edges:\n",
    "    G.add_edge(edge[0], edge[1], weight=edge[2])"
   ]
  },
  {
   "cell_type": "code",
   "execution_count": 6,
   "id": "89620a24",
   "metadata": {},
   "outputs": [],
   "source": [
    "# creating a dictionary for heuristic values\n",
    "heuristic = {\n",
    "    \"Arad\": 366, \"Mehadia\": 241, \"Bucharest\": 0, \"Neamt\": 234, \"Craiova\": 160,\n",
    "    \"Oradea\": 380, \"Eforie\": 161, \"Pitesti\": 100, \"Fagaras\": 176, \"Rimnicu Vilcea\": 193,\n",
    "    \"Sibiu\": 253, \"Giurgiu\": 77, \"Dobreta\": 242, \"Timisoara\": 329, \"Hirsova\": 151,\n",
    "    \"Urziceni\": 80, \"Iasi\": 226, \"Vaslui\": 199, \"Lugoj\": 244, \"Zerind\": 374\n",
    "}\n"
   ]
  },
  {
   "cell_type": "code",
   "execution_count": 7,
   "id": "dcdcd24c",
   "metadata": {},
   "outputs": [
    {
     "name": "stdout",
     "output_type": "stream",
     "text": [
      "Arad {'weight': 75}\n",
      "Oradea {'weight': 71}\n"
     ]
    }
   ],
   "source": [
    "for neighbor, weight in G['Zerind'].items():\n",
    "    print(neighbor , weight)"
   ]
  },
  {
   "cell_type": "code",
   "execution_count": 8,
   "id": "df9a8f00",
   "metadata": {},
   "outputs": [],
   "source": [
    "def best_first_search(graph, start, goal, heuristic):\n",
    "    open_list = [(heuristic[start], start)]\n",
    "    closed_list = set()\n",
    "    # Maintain a dictionary to store the cost from start to each node\n",
    "    costs = {start: 0}\n",
    "\n",
    "    while open_list:\n",
    "        current_cost, current_node = heapq.heappop(open_list)\n",
    "    \n",
    "        if current_node == goal:\n",
    "            return costs[current_node]\n",
    "\n",
    "        closed_list.add(current_node)\n",
    "\n",
    "        for neighbor, weight in graph[current_node].items():\n",
    "            cost = costs[current_node] + weight['weight']\n",
    "            if neighbor not in closed_list and (neighbor not in costs or cost < costs[neighbor]):\n",
    "                costs[neighbor] = cost\n",
    "                heapq.heappush(open_list, (heuristic[neighbor], neighbor))\n",
    "\n",
    "    return \"Failure\"\n"
   ]
  },
  {
   "cell_type": "code",
   "execution_count": 9,
   "id": "f0da0576",
   "metadata": {},
   "outputs": [
    {
     "data": {
      "text/plain": [
       "450"
      ]
     },
     "execution_count": 9,
     "metadata": {},
     "output_type": "execute_result"
    }
   ],
   "source": [
    "best_first_search(G, 'Arad', 'Bucharest', heuristic)"
   ]
  },
  {
   "cell_type": "code",
   "execution_count": null,
   "id": "796c1ce0",
   "metadata": {},
   "outputs": [],
   "source": []
  },
  {
   "cell_type": "code",
   "execution_count": null,
   "id": "6fc2e0b5",
   "metadata": {},
   "outputs": [],
   "source": []
  }
 ],
 "metadata": {
  "kernelspec": {
   "display_name": "Python 3 (ipykernel)",
   "language": "python",
   "name": "python3"
  },
  "language_info": {
   "codemirror_mode": {
    "name": "ipython",
    "version": 3
   },
   "file_extension": ".py",
   "mimetype": "text/x-python",
   "name": "python",
   "nbconvert_exporter": "python",
   "pygments_lexer": "ipython3",
   "version": "3.9.12"
  }
 },
 "nbformat": 4,
 "nbformat_minor": 5
}
