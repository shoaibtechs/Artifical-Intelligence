{
 "cells": [
  {
   "cell_type": "markdown",
   "id": "035e5cc5",
   "metadata": {},
   "source": [
    "### Three bags contain 6 red, 4 black; 4 red, 6 black, and 5 red, 5 black balls respectively. One of the bags is selected at random and a ball is drawn from it. If the ball drawn is red, find the probability that it is drawn from the first bags."
   ]
  },
  {
   "cell_type": "code",
   "execution_count": 2,
   "id": "d5dd8849",
   "metadata": {},
   "outputs": [
    {
     "name": "stdout",
     "output_type": "stream",
     "text": [
      "Probability of selecting the first bag given drawing a red ball:  0.39999999999999997\n"
     ]
    }
   ],
   "source": [
    "# Given probabilities\n",
    "#probabillity of red bags\n",
    "p_red_given_u1 = 3/5    # 6/6+4\n",
    "p_red_given_u2 = 2/5    # 4/4+6\n",
    "p_red_given_u3 = 1/2    # 5/5+5\n",
    "\n",
    "#Probabillity of each bags\n",
    "\n",
    "p_u1 = 1/3\n",
    "p_u2 = 1/3\n",
    "p_u3 = 1/3\n",
    "# Calculate P(R) of red bag by law total probabillity \n",
    "p_red = p_red_given_u1 * p_u1 + p_red_given_u2 * p_u2 + p_red_given_u3 * p_u3\n",
    "# Using Bayes theorem \n",
    "p_u1_given_red = (p_red_given_u1 * p_u1) / p_red\n",
    "print(\"Probability of selecting the first bag given drawing a red ball: \", p_u1_given_red)"
   ]
  },
  {
   "cell_type": "markdown",
   "id": "b8a69496",
   "metadata": {},
   "source": [
    "## Bayesian Network "
   ]
  },
  {
   "cell_type": "code",
   "execution_count": null,
   "id": "0f27d17d",
   "metadata": {},
   "outputs": [],
   "source": [
    "from pgmpy.models import BayesianModel\n",
    "from pgmpy.factors.discrete import TabularCPD\n",
    "from pgmpy.inference import VariableElimination\n",
    "# Create a Bayesian network for the Monty Hall problem\n",
    "model = BayesianModel([(&#39;Door 1&#39;, &#39;Door 2&#39;), (&#39;Door 1&#39;, &#39;Door 3&#39;)])\n",
    "# Define the conditional probability distributions (CPDs)\n",
    "cpd_door1 = TabularCPD(variable=&#39;Door 1&#39;, variable_card=3, values=[[1/3], [1/3], [1/3]])\n",
    "# Monty&#39;s actions depend on the contestant&#39;s choice\n",
    "cpd_door2 = TabularCPD(variable=&#39;Door 2&#39;, variable_card=3,\n",
    "                       values=[[0, 1/2, 1], [1/2, 0, 0], [1/2, 1/2, 0]],\n",
    "                       evidence=[&#39;Door 1&#39;], evidence_card=[3])\n",
    "cpd_door3 = TabularCPD(variable=&#39;Door 3&#39;, variable_card=3,\n",
    "                       values=[[0, 1, 1/2], [1, 0, 1/2], [0, 0, 0]],\n",
    "                       evidence=[&#39;Door 1&#39;], evidence_card=[3])\n",
    "# Add the CPDs to the Bayesian network\n",
    "model.add_cpds(cpd_door1, cpd_door2, cpd_door3)\n",
    "# Check if the model is valid\n",
    "assert model.check_model(), &quot;Invalid model.&quot;\n",
    "# Perform inference using Variable Elimination algorithm\n",
    "inference = VariableElimination(model)\n",
    "# Probability of winning the prize when sticking to the initial choice (Door 1)\n",
    "result_stick = inference.query(variables=[&#39;Door 1&#39;], evidence={})\n",
    "prob_win_stick = result_stick.values[0]\n",
    "# Probability of winning the prize when switching doors (not choosing Door 1)\n",
    "result_switch = inference.query(variables=[&#39;Door 2&#39;, &#39;Door 3&#39;], evidence={&#39;Door 1&#39;: 0})\n",
    "prob_win_switch = sum(result_switch.values)\n",
    "# Print the probabilities of winning with stick and switch strategies\n",
    "print(\"Probability of winning by sticking with initial choice (Door 1):\", prob_win_stick)\n",
    "print(\"Probability of winning by switching doors:\", prob_win_switch)"
   ]
  },
  {
   "cell_type": "markdown",
   "id": "879eed38",
   "metadata": {},
   "source": [
    "# TASKS"
   ]
  },
  {
   "cell_type": "markdown",
   "id": "c3583f50",
   "metadata": {},
   "source": [
    "## TASK-1: 1. A die is loaded in such a way that an even number is twice as likely to occur as an odd number. If E is the event that a number less than 4 occurs on a single toss of the die, find P (E)."
   ]
  },
  {
   "cell_type": "code",
   "execution_count": 7,
   "id": "da8aa6ee",
   "metadata": {},
   "outputs": [
    {
     "name": "stdout",
     "output_type": "stream",
     "text": [
      "3.0\n"
     ]
    }
   ],
   "source": [
    "p_even = 2 / 3\n",
    "p_odd = 1 / 3\n",
    "E = {1, 2, 3}\n",
    "p_e = p_even * len(E) + p_odd * len(E)\n",
    "print(p_e)"
   ]
  },
  {
   "cell_type": "markdown",
   "id": "4543cc06",
   "metadata": {},
   "source": [
    "#### TASK-2 An insurance company insured 2000 scooter drivers, 4000 car drivers, and 6000 truck drivers. The probability of an accident involving a scooter driver, car driver, and a truck is 0.01, 0.03, and 0.015 respectively. One of the insured persons meets with an accident. What is the probability that he is a scooter driver?"
   ]
  },
  {
   "cell_type": "code",
   "execution_count": 9,
   "id": "47e74fef",
   "metadata": {},
   "outputs": [
    {
     "name": "stdout",
     "output_type": "stream",
     "text": [
      "0.08695652173913043\n"
     ]
    }
   ],
   "source": [
    "# scooter drivers\n",
    "n_scooter = 2000\n",
    "# car drivers\n",
    "n_car = 4000\n",
    "# truck drivers\n",
    "n_truck = 6000\n",
    "# Probability of accident scooter driver\n",
    "p_scooter_accident = 0.01\n",
    "# Probability of accident car driver\n",
    "p_car_accident = 0.03\n",
    "# Probability of accident truck driver\n",
    "p_truck_accident = 0.015\n",
    "# Probability of a person in scooter scooter driver\n",
    "p_scooter = (n_scooter * p_scooter_accident) / (n_scooter * p_scooter_accident + n_car * p_car_accident + n_truck * p_truck_accident)\n",
    "\n",
    "print(p_scooter)\n"
   ]
  },
  {
   "cell_type": "markdown",
   "id": "1e40668d",
   "metadata": {},
   "source": [
    "#### TASK-3 A bag contains 10 red marbles and 20 blue marbles. If you draw a marble at random, what is the probability that it is red given that it is blue? This is an example of conditional probability because we are given that the marble is blue, and we want to find the probability that it is red."
   ]
  },
  {
   "cell_type": "code",
   "execution_count": 10,
   "id": "af0cc5a5",
   "metadata": {},
   "outputs": [
    {
     "name": "stdout",
     "output_type": "stream",
     "text": [
      "Probability of selecting bag 1 0.37735849056603776\n"
     ]
    }
   ],
   "source": [
    "\n",
    "p_red_given_u1 = 10 / (10 + 20) \n",
    "p_red_given_u2 = 5 / (5 + 15)  \n",
    "p_red_given_u3 = 3 / (3 + 7)    \n",
    "\n",
    "p_u1 = 1 / 3  \n",
    "p_u2 = 1 / 3  \n",
    "p_u3 = 1 / 3  \n",
    "\n",
    "# Calculating PR \n",
    "p_red = p_red_given_u1 * p_u1 + p_red_given_u2 * p_u2 + p_red_given_u3 * p_u3\n",
    "\n",
    "# Using Bayes thores\n",
    "p_u1_given_red = (p_red_given_u1 * p_u1) / p_red\n",
    "\n",
    "print(\"Probability of selecting bag 1\", p_u1_given_red)\n"
   ]
  },
  {
   "cell_type": "markdown",
   "id": "56d14f33",
   "metadata": {},
   "source": [
    "#### TASK-4 Write Python Program for each task, create sample space and calculate the probability and show the output. A manufacturing firm employs three analytical plans for the design and development of a particular product. For cost reasons, all three are used at varying times. In fact, plans 1, 2, and 3 are used for 30%, 20%, and 50% of the products, respectively. The defect rate is different for the three procedures as follows: P(D|P1)=0.01, P(D|P2)=0.03, P(D|P3)=0.02, where P(D|Pj ) is the probability of a defective product, given plan j. If a random product was observed and found to be defective, which plan was most likely used and thus responsible?"
   ]
  },
  {
   "cell_type": "code",
   "execution_count": 11,
   "id": "02212ac5",
   "metadata": {},
   "outputs": [
    {
     "name": "stdout",
     "output_type": "stream",
     "text": [
      "Probability of the Plan 1  0.15789473684210525\n",
      "Probability of a Plan 2 given a defective product: 0.3157894736842105\n",
      "Probability of the Plan 3 given a defective product: 0.5263157894736842\n",
      "The plan most likely responsible for the defect is: Plan 3\n"
     ]
    }
   ],
   "source": [
    "# Given probabilities\n",
    "P_P1 = 0.30  # Probability of using plan 1\n",
    "P_P2 = 0.20  #  2\n",
    "P_P3 = 0.50  # 3\n",
    "\n",
    "P_D_given_P1 = 0.01  # Probability of adefective plan 1\n",
    "P_D_given_P2 = 0.03  # 2\n",
    "P_D_given_P3 = 0.02  # 3\n",
    "\n",
    "# Here we are Calculating P(D) Probability of a defective product\n",
    "P_D = P_P1 * P_D_given_P1 + P_P2 * P_D_given_P2 + P_P3 * P_D_given_P3\n",
    "\n",
    "# Here we are Using the Bayes Theorem\n",
    "P_P1_given_D = (P_P1 * P_D_given_P1) / P_D\n",
    "P_P2_given_D = (P_P2 * P_D_given_P2) / P_D\n",
    "P_P3_given_D = (P_P3 * P_D_given_P3) / P_D\n",
    "\n",
    "# Here we are determining the plam\n",
    "most_likely_plan = max([(P_P1_given_D, \"Plan 1\"), (P_P2_given_D, \"Plan 2\"), (P_P3_given_D, \"Plan 3\")])\n",
    "\n",
    "\n",
    "print(\"Probability of the Plan 1 \", P_P1_given_D)\n",
    "print(\"Probability of a Plan 2 given a defective product:\", P_P2_given_D)\n",
    "print(\"Probability of the Plan 3 given a defective product:\", P_P3_given_D)\n",
    "print(\"The plan most likely responsible for the defect is:\", most_likely_plan[1])\n"
   ]
  },
  {
   "cell_type": "markdown",
   "id": "461954a2",
   "metadata": {},
   "source": [
    "#### TASK-5: Develop a Dynamic Bayesian network with the following structure and conditional probability distributions using pgmpy library. Perform inference to find the probability of C at time step 2 given evidence of A=1 at time step 1 and B=0 at time step 2 using VariableElimination algorithm.  P(A) = [0.6, 0.4]  P(B|A) = [[0.8, 0.2], [0.3, 0.7]]  P(C|B) = [[0.9, 0.1], [0.2, 0.8]]  P(D|B) = [[0.7, 0.3], [0.4, 0.6]"
   ]
  },
  {
   "cell_type": "code",
   "execution_count": null,
   "id": "7796c3ae",
   "metadata": {},
   "outputs": [
    {
     "name": "stdout",
     "output_type": "stream",
     "text": [
      "Collecting pgmpy\n",
      "  Downloading pgmpy-0.1.23-py3-none-any.whl (1.9 MB)\n",
      "\u001b[2K     \u001b[38;2;114;156;31m━━━━━━━━━━━━━━━━━━━━━━━━━━━━━━━━━━━━━━━━\u001b[0m \u001b[32m1.9/1.9 MB\u001b[0m \u001b[31m532.7 kB/s\u001b[0m eta \u001b[36m0:00:00\u001b[0mm eta \u001b[36m0:00:01\u001b[0m[36m0:00:01\u001b[0m\n",
      "\u001b[?25hRequirement already satisfied: joblib in /home/shoaib/anaconda3/lib/python3.9/site-packages (from pgmpy) (1.2.0)\n",
      "Requirement already satisfied: pyparsing in /home/shoaib/anaconda3/lib/python3.9/site-packages (from pgmpy) (3.0.9)\n",
      "Requirement already satisfied: scikit-learn in /home/shoaib/anaconda3/lib/python3.9/site-packages (from pgmpy) (1.2.2)\n",
      "Collecting torch\n",
      "  Downloading torch-2.0.1-cp39-cp39-manylinux1_x86_64.whl (619.9 MB)\n",
      "\u001b[2K     \u001b[38;2;249;38;114m━━━━━━━━━━━━━━━━━━━━━━━\u001b[0m\u001b[38;2;249;38;114m╸\u001b[0m\u001b[38;5;237m━━━━━━━━━━━━━\u001b[0m \u001b[32m401.1/619.9 MB\u001b[0m \u001b[31m910.9 kB/s\u001b[0m eta \u001b[36m0:04:01\u001b[0m"
     ]
    }
   ],
   "source": [
    "!pip install pgmpy\n",
    "from pgmpy.models import DynamicBayesianNetwork as DBN\n",
    "from pgmpy.factors.discrete import TabularCPD\n",
    "from pgmpy.inference import VariableElimination\n",
    "\n",
    "dbn = DBN()\n",
    "\n",
    "nodes_at_time = {1: ['A_t1', 'B_t1', 'C_t1', 'D_t1'], 2: ['A_t2', 'B_t2', 'C_t2', 'D_t2']}\n",
    "\n",
    "for t in range(1, 3):\n",
    "    dbn.add_nodes_from(nodes_at_time[t])\n",
    "\n",
    "dbn.add_edges_from([\n",
    "    ('A_t1', 'B_t1'),\n",
    "    ('B_t1', 'C_t1'),\n",
    "    ('B_t1', 'D_t2'),\n",
    "    ('A_t2', 'B_t2'),\n",
    "    ('B_t2', 'C_t2'),\n",
    "])\n",
    "\n",
    "cpd_a = TabularCPD(variable='A_t1', variable_card=2, values=[[0.6], [0.4]])\n",
    "cpd_b_given_a = TabularCPD(variable='B_t1', variable_card=2, values=[[0.8, 0.2], [0.3, 0.7]], evidence=['A_t1'], evidence_card=[2])\n",
    "cpd_c_given_b = TabularCPD(variable='C_t1', variable_card=2, values=[[0.9, 0.1], [0.2, 0.8]], evidence=['B_t1'], evidence_card=[2])\n",
    "cpd_d_given_b = TabularCPD(variable='D_t2', variable_card=2, values=[[0.7, 0.3], [0.4, 0.6]], evidence=['B_t1'], evidence_card=[2])\n",
    "\n",
    "dbn.add_cpds(cpd_a, cpd_b_given_a, cpd_c_given_b, cpd_d_given_b)\n",
    "\n",
    "print(dbn.edges())\n",
    "for cpd in dbn.get_cpds():\n",
    "    print(cpd)\n",
    "\n",
    "inference = VariableElimination(dbn)\n",
    "result = inference.map_query(variables=['C_t2'], evidence={'A_t1': 1, 'B_t2': 0})\n",
    "print(result)\n"
   ]
  },
  {
   "cell_type": "code",
   "execution_count": null,
   "id": "16d1006b",
   "metadata": {},
   "outputs": [],
   "source": []
  }
 ],
 "metadata": {
  "kernelspec": {
   "display_name": "Python 3 (ipykernel)",
   "language": "python",
   "name": "python3"
  },
  "language_info": {
   "codemirror_mode": {
    "name": "ipython",
    "version": 3
   },
   "file_extension": ".py",
   "mimetype": "text/x-python",
   "name": "python",
   "nbconvert_exporter": "python",
   "pygments_lexer": "ipython3",
   "version": "3.9.12"
  }
 },
 "nbformat": 4,
 "nbformat_minor": 5
}
